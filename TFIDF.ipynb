{
  "nbformat": 4,
  "nbformat_minor": 0,
  "metadata": {
    "colab": {
      "name": "TFIDF.ipynb",
      "provenance": [],
      "collapsed_sections": [],
      "authorship_tag": "ABX9TyMsfeXmT4+VcWb/meWLkoms",
      "include_colab_link": true
    },
    "kernelspec": {
      "name": "python3",
      "display_name": "Python 3"
    },
    "language_info": {
      "name": "python"
    }
  },
  "cells": [
    {
      "cell_type": "markdown",
      "metadata": {
        "id": "view-in-github",
        "colab_type": "text"
      },
      "source": [
        "<a href=\"https://colab.research.google.com/github/drsatpute/NLP/blob/main/TFIDF.ipynb\" target=\"_parent\"><img src=\"https://colab.research.google.com/assets/colab-badge.svg\" alt=\"Open In Colab\"/></a>"
      ]
    },
    {
      "cell_type": "markdown",
      "metadata": {
        "id": "1jsBIKOsNpYZ"
      },
      "source": [
        "# TF-IDF of Dr. A. P. J. Abdul Kalam (former president) on 26th Jan 2007 i.e. Republic Day"
      ]
    },
    {
      "cell_type": "code",
      "metadata": {
        "colab": {
          "base_uri": "https://localhost:8080/"
        },
        "id": "5HS8pbS7-ksf",
        "outputId": "ef5e1e19-cdb7-4723-dd5b-723620e2945c"
      },
      "source": [
        "import nltk\n",
        "nltk.download('punkt')"
      ],
      "execution_count": 1,
      "outputs": [
        {
          "output_type": "stream",
          "text": [
            "[nltk_data] Downloading package punkt to /root/nltk_data...\n",
            "[nltk_data]   Unzipping tokenizers/punkt.zip.\n"
          ],
          "name": "stdout"
        },
        {
          "output_type": "execute_result",
          "data": {
            "text/plain": [
              "True"
            ]
          },
          "metadata": {
            "tags": []
          },
          "execution_count": 1
        }
      ]
    },
    {
      "cell_type": "code",
      "metadata": {
        "id": "yWSfbdKIMpq4"
      },
      "source": [
        "paragraph=\"\"\"In the eighties, children always used to ask me questions such as “When can I sing the Song of India?” Today, \n",
        "the youth are asking me, “What I can give to India?” This shows that the nation is on a positive growth trajectory. \n",
        "The change in pattern of the questions is indicative of the transformation which has taken place over the years. \n",
        "Also, I receive many e-mails and letters asking me “what I can give to India, my country?” \n",
        "When I study the letters, messages and mails that I have received and also the personal interactions with the people, \n",
        "I can clearly see abundant opportunities in which every citizen can contribute. \n",
        "I thought of sharing this with you: My topic of this address will be — \n",
        "“What can I give to my nation?\" In Indian history, our nation has come across a situation, all at a time, \n",
        "an ascending economic trajectory, continuously rising foreign exchange reserves, \n",
        "increasing domestic investment with investors’ confidence rising steadily, global successes of Indian managerial and entrepreneurial talents, \n",
        "global recognition of technological competence, energy of 540 million youth, \n",
        "umbilical connectivities of more than 25 million people of Indian origin in various parts of the planet and the interest shown by many developed countries to invest in our engineers and scientists through setting up of new Research and Development Centres in India.\n",
        "The distinction between the public and the private sectors and the illusory primacy of one over the other is vanishing. Also, there is a trend that many young people are opting for creating new enterprises instead of being mere employees. Providing leadership for the one billion people with multi-cultural, multi-language and multi-religious backgrounds is indeed the core competence of our nation. Our technological competence and value systems with civilisational heritage are highly respected by the world community. Also, Foreign Institutional Investors find investing in India attractive as the returns are high and assured. Indian industrialists are also investing abroad and opening new business ventures.\n",
        "Our Gross Domestic Product which stands at US $729 billion is poised to grow at 10% annually which along with various other concurrent actions, will enhance the welfare of farmers, workers, professionals and unleash creativity of entrepreneurs, business persons, scientists, engineers and all other constituents  of society.\n",
        "Today due to the open sky policy and competitiveness air travel has become affordable for the growing middle class. The Railways have introduced many improvements and people can book tickets through the Internet. The revolution in travel has not only connected people but also boosted tourism and the economy. Tele-density in the country has gone up to 18%. Mobile telephones are reaching the common man and serving their needs. The one India plan has made calling across the country easy and affordable. Our ICT sector is exporting more than $24 billion and the Indian Pharma industry is ranked 4th in the world and exports nearly $4 billion of products. Our $44 billion automobile industry is growing at the rate of 17% per annum.\n",
        "Our total exports in the last 8 months has crossed US $80 billion. Our aerospace and aeronautical achievements are commendable.\n",
        "Six remote sensing satellites of various resolutions and spectral bands are providing valuable services in monitoring and management of natural resources. These have been further complemented with CARTOSAT-II launched on 10th January 2007 by PSLV-C7 along with the Space Capsule Recovery Experiment (SRE) and two other foreign satellites.  \n",
        "The SRE after performing micro gravity experiments in orbit, has since been successfully recovered in Indian waters, leading to another technological milestone.\n",
        "Today, we have nine geo-stationary satellites in orbit including an exclusive EDUSAT for education. The country has successfully used advances in space technology and telecommunication towards creating tele-education as well as tele-medicine networks and village resource centres.\n",
        "SAKSHAT: The One Stop Education Portal has been launched by the Government to serve the quality education needs of 11th and 12th class students spread in any part of the country.\n",
        "Broadband has reached up to the block level in all the Districts.\n",
        "Students from abroad are coming to India for academic programmes, training and internship and many foreign institutions have started collaborating with Indian universities and academic institutions.\n",
        "India’s experience has resulted in providing the Pan African e-Network connecting 53 countries. The country has operationalised two strategic missile systems.\n",
        "A state-of-the-art super sonic cruise missile system has also entered into commercial production with an international partner.\n",
        "The number of people living below poverty line has come down to 22% and our literacy rate will soon touch 75%. Our unemployment is around 9% of the employable population of 400 million people.\n",
        "The Central Government has launched comprehensive rural development programmes called Bharat Nirman Programme, Jawaharlal Nehru Urban Renewal Mission and Rural Employment Guarantee scheme with substantial outlays for bringing the fruits of development equitably to all sections of society irrespective of where they reside. Implementation of PURA programmes has been undertaken by number of state governments and private institutions in the country resulting in a number of operational PURAs.\n",
        "The Central government is planning to introduce two PURA clusters in each district across the country as a first phase. People from all walks of life can be guiding forces and they can be partners in executing national development programmes and ushering in a good way of life.\n",
        "The State Governments have also launched a number of missions including rural and infrastructure development activities towards realising the goals of Vision 2020.\n",
        "Against this backdrop, I would like to discuss with you the ambience in 2020 for which we as a nation have to  work.\n",
        "If we perform in an integrated way with development politics as the focus, in mission mode with transparency, I visualise even before the year 2020, that a prosperous India is possible.\n",
        "We expect the people below the poverty line to come to near zero and our literacy must be nearly 100%. The Human development Index of India will be less than 50 against the present 127.\n",
        "Every Indian will have either a good university degree or quality training with globally competitive employable vocational skills. E-governance would be in position for all Government to Government (G2G) and Government to Citizens (G2C) transactions making the governance system transparent with the National ID card in position.\n",
        "Tele-density will reach over 75%. All our villages will have reliable, uninterrupted quality electric power supply. The interlinking of rivers and water bodies and use of technology for water collection, water recycling and water management will result in equitable distribution of water for drinking, irrigation, industry, navigation and as natural beauty.\n",
        "There will be no shortage of water in any part of the country nor will there be disasters due to floods, water logging etc. India would have realised energy security and will be working towards energy independence. Good sanitation facilities  will be available at homes in every part of India and for all Indians and tourists. We will be using more of renewable energy such as solar energy, wind power, bio-mass, mini and micro hydel and thorium based nuclear reactors, adding less to the pollution.\n",
        "Through responsive and innovative venture capital systems and entrepreneurial training both in schools and colleges, we will have more enterprises leading to a large number of employment generators rather than employment seekers. A pro-active healthcare system delivered through innovative schemes will provide quality healthcare access at an affordable cost to all the people of the country including those living in remote areas.   \n",
        "Everyone will have an opportunity to take up and complete courses of choice in higher education.\n",
        "I am sure you will all see prosperity in the country, which will replace scarcity and control.  In addition to the above economic, social and human development, India will also have a visible global presence in strategic sectors and will contribute to world peace. All our technological and economic advances while enhancing our prosperity would embed our value system derived from our civilisational heritage. \n",
        "This unique combination will make our growth robust and sustainable and will lead to a peaceful, secure, happy and prosperous society.\n",
        "To achieve these goals, a national movement of development is essential. In this movement, every citizen, every constituent of our democracy has to participate. What can be the profile of people’s participation in this development movement? Citizens participation can be in many important areas like; reaching the unreached, feedback on service to the people, Human Resource Development, Entrepreneurship,\n",
        "Role of Home makers, Environment development, Youth participation in the political system with a focus on developed India.\n",
        "The government has doubled credit availability to the agriculture sector in 2005-06 keeping 2004-05 as a base. NABARD and banking and financial institutions have to work together  to find hassle-free methods of providing micro credit and micro investment to needy farmers so that they are weaned away from the clutches of elements who exploit them.\n",
        "Simultaneously, agricultural researchers, extension workers from academic institutions, non-governmental organisations and industry should work closely with farmers and enable them to increase productivity, storage, food processing and marketing.  \n",
        "In addition, they should facilitate the farmers to undertake non-farm tasks on the lines of “one product per village cluster” scheme to promote export of products based on the core-competence of the village for increasing the sustainability of the rural sector as a whole. Insurance companies have to come forward with micro insurance, crop insurance and cattle insurance, apart from low cost medical insurance for providing risk cover to farmers. Similarly, units like mobile diagnostic clinics as in Uttarakhand may be operated in all the districts to reach medicare to the unreached. Recently, I have come across a number of initiatives by our judicial systems at various levels for fast delivery of justice such as legal aid clinics, mediation and conciliation, mobile court and lok-adalat and increasing the number of days and number of hours of working per day.\n",
        "Having mobile courts reaching the village to deliver justice at the doorstep of rural citizens can reinforce these initiatives.\n",
        "The corporate sector may also think of reaching the unreached as an essential component of “Corporate Social Responsibility.” In a world dominated by communication, extending communication from the privileged to include connectivity to the unreached should be part of our technological upheaval.\n",
        "Though India is known to be one of the best destinations for outsourcing of many of the service and knowledge products, within our society we are yet to grow to appreciate and pay for the services.\n",
        "However, developed nations are gauged by the quality of service the citizens get from the government and from the corporate with which they do business. One mechanism by which we can continuously increase the quality of service is through feedback. This should be done by everyone without fear or bias.\n",
        "This feedback will enable all service providers to constantly improve the quality of service irrespective of what the service is. We will see a substantial increase in services such as electricity, water, telephone, gas, transportation, education, insurance, banking, legal and police.  \n",
        "Service providers whether they are in Government or in the private sector have to take feedback in the right spirit and provide customer satisfaction both in the short-term and in the long-term. Customers  should also acknowledge positive developments and celebrate improvements.\n",
        "This scenario should lead to pride of service and competitiveness.\n",
        "Websites and Portals have all along been the best source for receiving feedback from the public, apart from meeting people directly. I have been visiting Government websites of many agencies.\n",
        "If the website does not provide latest information its utility diminishes and loses the purpose for which the government department websites were created.\n",
        "It is necessary that these websites are constantly updated so that they provide latest information and opportunities for feedback. The website may also be used to provide information on the action taken about a particular suggestion.  \n",
        "It is essential that service providing organisations create a user forum and meet them regularly for proactively improving quality of service through a monitoring mechanism.\n",
        "Government officers should make use of e-governance portals and e-mails to stay continuously connected with the people and take necessary actions. The recent step of the government to introduce the Right to Information Act is a positive step towards transparency in  governance.\n",
        "Presently our university education system is contributing 3 million graduates and post graduates every year and students seeking employment after completion of 10th class and 10+2 class are around 7 million per year. Thus nearly 10 million youth are injected into the employment market every year.\n",
        "In the 21st century, India needs a large number of talented youth with higher education for the task of knowledge acquisition, knowledge imparting, knowledge creation and knowledge sharing.\n",
        "At present India has five hundred and forty million youth under the age of 25. This will continuously be growing till the year 2050. Keeping this resource in mind, the universities and educational systems should create two cadres of personnel:\n",
        "(i) a global cadre of skilled youth with specific knowledge of special skills (ii) another global cadre of youth with higher education. These two cadres will be required not only for powering the manufacturing and services sector of India but also will be needed for fulfilling the human resource requirements of various countries.\n",
        "Thus, the universities and secondary school education system will have to work towards increasing the through put of the higher education system from the existing 11% to 20 % by the year 2015, 30% by the year 2020 and 50% by the year 2040.\n",
        "Other Indians who are not covered by the higher education system should all have world class skill sets in areas such as construction, carpentry, electrical systems, repair of mechanical systems, fashion design, para-legal, para-medical, accountancy, sales and marketing, software and hardware maintenance and service, software quality assurance to name a few.\n",
        "No Indian youth should be without either a world-class higher education or without world class skill sets.\n",
        "This is an important task in which all universities, academic specialists, colleges, vocational training institutions, certification agencies, banking systems and industrial enterprises can contribute in terms of assessing correct numbers, designing courses related to nation building  tasks, assessing and providing infrastructural requirement, improving quality of teachers, ensuring teachers-students ratio, complementing class room education with virtual class rooms through tele-education and above all ensuring that students are able to face international competition in employable skills.\n",
        "Systems must be designed in such a way that no aspiring competent student should be denied quality education. The system of education must be able to maintain the required output quality. These are examples of what the Government has to do to give an enabling environment and how those who operate education systems have to give to our youth.\n",
        "Then, our youth can give their knowledge skills in making the nation prosperous.\n",
        "Orientation for entrepreneurship has to start right from the schools. Teachers need to teach the role of entrepreneurship in national development in schools. During college education, students must be exposed to business development opportunities and must be trained towards creation of new enterprises\n",
        "Parents should encourage their children to take up new ventures after their education. We should cultivate a mind set that “Idea is wealth.” The Government must create a facilitating environment for provision of venture capital for innovative ideas without collateral security.\n",
        "Universities, Engineering and Management institutions should work with banks and other funding agencies towards simplifying procedures and working with entrepreneurs till the project becomes self-sustaining and viable.\n",
        "Procedures in Government should facilitate the spotting and recognition of new Indian talents and small entrepreneurs by creating a level playing field for healthy competition. Citizens who can afford could turn themselves into angel investors or start venture capital organisations to fund such ventures. Big and small industries need to have a mind to encourage and partner with young entrepreneurs.\n",
        "Home makers have an important role to play in addition to shaping the family. They can equally contribute to societal upliftment.  I have come across a project called “Siruthuli” which has been taken up in Coimbatore. This project on large scale rain water harvesting and activating the  water bodies,  aforestation, sewage and waste water treatment and solid waste management,  integrates a large number of people from different walks of life. A home maker is providing the leadership to this project. Many of the Panchayats across the country have women members who have been giving leadership in various rural development initiatives. Imagine the difference which can be made in the six hundred thousand villages with such actions.\n",
        "Environment can become clean and upgraded only through countrywide active participation of citizens. People as a team can participate in cleaning the environment like the cleaning of the Kali Bein River. Spiritual  leaders can play a very important role in persuading  devotees in the clean environment movement which will promote the evolution of beautiful minds. Local groups can be formed to demonstrate and teach cleanliness in local residential areas. Welfare associations, NCC Cadets, Scouts, Guides and NSS Volunteers can proactively form these groups. Industrialists should follow the prescribed norms for environmental standards in all their institutions and make buildings friendly to differently challenged people.\n",
        "Government employees should keep their offices and their environment clean as they would like to keep their homes. Parents and teachers should teach the need for environmental friendly requirements to younger citizens. Citizens can plant trees and nurture them in their neighbourhood every year as a mission. Our public infrastructure, airports, railway stations, bus stations, sea ports and Hospitals form the face of the nation in the global environment. It is the responsibility of all stakeholders including citizens to promote cleanliness in all these public facilities.\n",
        "The youth should take up politics as their career in large numbers. Political Science should form part of the curriculum from secondary to college level for all students with development politics as the focus. Citizens should proactively cast their votes to select candidates of known performance with honesty as the focus. Legal personalities, experts and professionals should educate citizens about the political process, constitution, procedures and their rights and responsibilities.\n",
        "Similarly there are many more important tasks like making education accessible to every citizen, uplifting citizens below the poverty level through a focused mission and accelerating agriculture reforms. In the same way, there can be a movement in the judiciary for time bound clearance of pending cases in district courts and high courts within the next 3 years.\n",
        "The Judiciary and bar should ensure that the common citizen gets speedy justice with nobility. While citizens demand that our police force has to be transparent and action oriented, it is also essential that police stations are electronically connected and simultaneously they should be empowered with better quality of life, like proper housing, sanitary facilities, medical cover and children’s education. This will enable them to concentrate in their work with peace of mind and thereby output from the police would increase.\n",
        "Above all our women folk constitute fifty percent of our population. Their dignity should be protected and they should get proper representation in all decision making institutions like panchayat systems.\n",
        "Our Panchayat Boards really represent the village citizens and they should ensure that all development funds allotted for rural development in their area are properly utilised for the intended purpose without dilution. Dear friends, there are many areas in which citizens can participate towards the development movement. Now let me focus on national Our Armed Forces and Paramilitary Forces, day or night, awake guarding our borders on the land, in the air and at sea remain vigilant to counter any threat and facilitate progress of national development.  \n",
        "I have experienced personally, when I visited the Siachen Glacier at an altitude of ft. The temperature at minus 35 degrees centigrade with heavy did not deter our courageous Jawans. When, I was in the submarine, saw young sailors and naval officers functioning efficiently vigilantly in the silent sea keeping all round vigil on their in the Indian \n",
        "When I was with 20 Squadron of the Indian Air Force, I experienced how our fighter pilots can meet any challenge of multi-targets through radar missiles and EW systems. We cherish the valour,  commitment and  devotion to duty of these gallant personnel of our Armed Forces. Our Police Forces and Intelligence agencies complement each other and provide safety  and security to our citizens from unscrupulous elements, criminals  and extremists.\n",
        "Many persons from these forces have laid down their lives while protecting the nation, the flag and our people. We salute them all. Our colleges universities must not only generate excellent researchers but also generate the best soldiers for our country.\n",
        "Parents should encourage their children to participate in  security Some recent incidences of crime against  children have the whole nation and left  deep scars in all of us. Children are national wealth. Cruelty to children is against the fabric of which cannot be tolerated at any cost. Concerted action by concerned in society such as  watchful neighbours, fast oriented police machinery, vigilant media and speedy punishment to perpetrators of crime by the judicial system is need of the hour. In addition, as a preventive action we have identify people who have such tendency in society through psychological test aids.  \n",
        "Eradication of cruelty towards should be the mission of every Indian since they are our Developed India by 2020 is a mission of a billion every one of us has a role to play. It will be a reality \"Gives – What I can give”, through individual, societal and participation in a national movement facilitated by me. \n",
        "My interactions with our citizens in India and abroad, particularly the youth demonstrate to me the positive energy flowing from individuals which make them eager to give all they can to make India developed. The attitude of giving by every citizen and each group will  definitely be an enriching factor for the whole nation leading to an accelerated development process.\n",
        "When the nation marches towards its missions, many challenges will come on the way. Courage is a very important trait for all sections of society in overcoming these challenges. I would like to narrate one incident. On 8th June 2006, I was in the flight of Su-30-MKI. The captain of the aircraft was Wing Commander Ajay Rathore. The duration of the flight was 40 minutes. I participated in nall flight actions. When I landed, there were many youth and media personnel.\n",
        "One young man asked me a question, “Mr President, please tell me, since you have flown in the supersonic fighter aircraft at the age of 74, were you afraid any time during the flight.” I told the young man, “All the 40 minutes of the flight, I was busy on the controls and instruments and experiencing the “g” build up. I was advised by the captain to track targets and also look at the ground using the synthetic aperture radar. In addition, I was observing the performance of the instruments developed indigenously. I was continuously busy in the flight operations and I didn’t have time to allow fear to enter into me.” Now, dear young friends who have assembled in front of me and the nation, I have a message of Courage for you.\n",
        "Courage to Give\n",
        "“Courage to think different,\n",
        "Courage to invent,\n",
        "Courage to discover the impossible,\n",
        "Courage to travel into an unexplored path,\n",
        "Courage to share knowledge\n",
        "Courage to remove pain\n",
        "Courage to reach the unreached\n",
        "Courage to combat problems\n",
        "And Succeed,\n",
        "Are the unique qualities of youth.” \n",
        "As the youth of my nation, I will work and work with courage to achieve success in all my missions.\n",
        "My dear citizens, let me once again wish you a very purposeful and happy Republic Day.\n",
        "May God bless you.\n",
        "Jai Hind.\"\"\""
      ],
      "execution_count": 2,
      "outputs": []
    },
    {
      "cell_type": "code",
      "metadata": {
        "colab": {
          "base_uri": "https://localhost:8080/"
        },
        "id": "uJDl3m3BP4if",
        "outputId": "5f52b259-d5ce-4919-f556-a5007e259778"
      },
      "source": [
        "type(paragraph)"
      ],
      "execution_count": 3,
      "outputs": [
        {
          "output_type": "execute_result",
          "data": {
            "text/plain": [
              "str"
            ]
          },
          "metadata": {
            "tags": []
          },
          "execution_count": 3
        }
      ]
    },
    {
      "cell_type": "markdown",
      "metadata": {
        "id": "2GT7gkw1QYr6"
      },
      "source": [
        "Convert paragraph to sentences"
      ]
    },
    {
      "cell_type": "code",
      "metadata": {
        "colab": {
          "base_uri": "https://localhost:8080/"
        },
        "id": "glPDEFwFg-4j",
        "outputId": "146e6e91-31a5-427a-977a-36bfc5f17343"
      },
      "source": [
        "import re\n",
        "nltk.download('wordnet')\n",
        "nltk.download('stopwords')\n",
        "from nltk.corpus import stopwords\n",
        "from nltk.stem.porter import PorterStemmer\n",
        "from nltk.stem import WordNetLemmatizer\n"
      ],
      "execution_count": 4,
      "outputs": [
        {
          "output_type": "stream",
          "text": [
            "[nltk_data] Downloading package wordnet to /root/nltk_data...\n",
            "[nltk_data]   Unzipping corpora/wordnet.zip.\n",
            "[nltk_data] Downloading package stopwords to /root/nltk_data...\n",
            "[nltk_data]   Unzipping corpora/stopwords.zip.\n"
          ],
          "name": "stdout"
        }
      ]
    },
    {
      "cell_type": "code",
      "metadata": {
        "colab": {
          "base_uri": "https://localhost:8080/"
        },
        "id": "4jc7wWB8hU-d",
        "outputId": "fbb63f5e-fbdb-436e-c596-648b387e8530"
      },
      "source": [
        "stopwords.words('english')[0:5]"
      ],
      "execution_count": 5,
      "outputs": [
        {
          "output_type": "execute_result",
          "data": {
            "text/plain": [
              "['i', 'me', 'my', 'myself', 'we']"
            ]
          },
          "metadata": {
            "tags": []
          },
          "execution_count": 5
        }
      ]
    },
    {
      "cell_type": "code",
      "metadata": {
        "id": "gmmVrVbTij4n"
      },
      "source": [
        "ps = PorterStemmer()\n",
        "wordnet=WordNetLemmatizer()\n",
        "sentences = nltk.sent_tokenize(paragraph)\n",
        "corpus = []\n"
      ],
      "execution_count": 6,
      "outputs": []
    },
    {
      "cell_type": "markdown",
      "metadata": {
        "id": "SR_HGZ5Nja6N"
      },
      "source": [
        "Perform Stemming on all sentences"
      ]
    },
    {
      "cell_type": "code",
      "metadata": {
        "id": "grs6v46SfWRk"
      },
      "source": [
        "for i in range(len(sentences)):\n",
        "    review = re.sub('[^a-zA-Z]', ' ', sentences[i])\n",
        "    review = review.lower()\n",
        "    review = review.split()\n",
        "    review = [wordnet.lemmatize(word) for word in review if not word in set(stopwords.words('english'))]\n",
        "    review = ' '.join(review)\n",
        "    corpus.append(review)"
      ],
      "execution_count": 7,
      "outputs": []
    },
    {
      "cell_type": "code",
      "metadata": {
        "colab": {
          "base_uri": "https://localhost:8080/"
        },
        "id": "It2dx5hEZkR4",
        "outputId": "b4d51d37-fc48-4cb2-8228-f06e76ab7478"
      },
      "source": [
        "len(sentences)"
      ],
      "execution_count": 8,
      "outputs": [
        {
          "output_type": "execute_result",
          "data": {
            "text/plain": [
              "178"
            ]
          },
          "metadata": {
            "tags": []
          },
          "execution_count": 8
        }
      ]
    },
    {
      "cell_type": "code",
      "metadata": {
        "colab": {
          "base_uri": "https://localhost:8080/"
        },
        "id": "XYtet0IlSfzE",
        "outputId": "1fe5374b-8404-4d7e-c2a7-b397a888a2c6"
      },
      "source": [
        "corpus[0:5]"
      ],
      "execution_count": 9,
      "outputs": [
        {
          "output_type": "execute_result",
          "data": {
            "text/plain": [
              "['eighty child always used ask question sing song india today youth asking give india show nation positive growth trajectory',\n",
              " 'change pattern question indicative transformation taken place year',\n",
              " 'also receive many e mail letter asking give india country study letter message mail received also personal interaction people clearly see abundant opportunity every citizen contribute',\n",
              " 'thought sharing topic address give nation',\n",
              " 'indian history nation come across situation time ascending economic trajectory continuously rising foreign exchange reserve increasing domestic investment investor confidence rising steadily global success indian managerial entrepreneurial talent global recognition technological competence energy million youth umbilical connectivity million people indian origin various part planet interest shown many developed country invest engineer scientist setting new research development centre india']"
            ]
          },
          "metadata": {
            "tags": []
          },
          "execution_count": 9
        }
      ]
    },
    {
      "cell_type": "markdown",
      "metadata": {
        "id": "ZOWVMEpd2umC"
      },
      "source": [
        "Creating the Bag of Words model"
      ]
    },
    {
      "cell_type": "code",
      "metadata": {
        "id": "DJ-Qa6sx2t8A"
      },
      "source": [
        "from sklearn.feature_extraction.text import TfidfVectorizer\n",
        "cv = TfidfVectorizer()\n",
        "X = cv.fit_transform(corpus).toarray()"
      ],
      "execution_count": 13,
      "outputs": []
    },
    {
      "cell_type": "code",
      "metadata": {
        "colab": {
          "base_uri": "https://localhost:8080/"
        },
        "id": "Ldt0twtH2_Zh",
        "outputId": "bbeb40ac-5129-43cf-d95b-f122bf1e33cf"
      },
      "source": [
        "type(X)"
      ],
      "execution_count": 14,
      "outputs": [
        {
          "output_type": "execute_result",
          "data": {
            "text/plain": [
              "numpy.ndarray"
            ]
          },
          "metadata": {
            "tags": []
          },
          "execution_count": 14
        }
      ]
    },
    {
      "cell_type": "code",
      "metadata": {
        "colab": {
          "base_uri": "https://localhost:8080/"
        },
        "id": "wW_p6QOA3Emt",
        "outputId": "d51a714a-95cf-4be1-ded1-ed0683b9d45a"
      },
      "source": [
        "print(X)"
      ],
      "execution_count": 15,
      "outputs": [
        {
          "output_type": "stream",
          "text": [
            "[[0.         0.         0.         ... 0.         0.16450427 0.        ]\n",
            " [0.         0.         0.         ... 0.         0.         0.        ]\n",
            " [0.         0.         0.21104215 ... 0.         0.         0.        ]\n",
            " ...\n",
            " [0.         0.         0.         ... 0.         0.         0.        ]\n",
            " [0.         0.         0.         ... 0.         0.         0.        ]\n",
            " [0.         0.         0.         ... 0.         0.         0.        ]]\n"
          ],
          "name": "stdout"
        }
      ]
    }
  ]
}